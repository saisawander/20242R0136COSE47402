{
 "cells": [
  {
   "cell_type": "code",
   "execution_count": null,
   "metadata": {},
   "outputs": [
    {
     "name": "stderr",
     "output_type": "stream",
     "text": [
      "The system cannot find the path specified.\n"
     ]
    },
    {
     "name": "stdout",
     "output_type": "stream",
     "text": [
      "/cygdrive/c/Users/cdk60/20242R0136COSE47402/Final_Project\n"
     ]
    }
   ],
   "source": [
    "!cd Final_Project\n",
    "!pwd"
   ]
  },
  {
   "cell_type": "code",
   "execution_count": 11,
   "metadata": {},
   "outputs": [
    {
     "name": "stdout",
     "output_type": "stream",
     "text": [
      "Requirement already satisfied: wikiextractor in c:\\users\\cdk60\\appdata\\local\\programs\\python\\python39\\lib\\site-packages (3.0.6)Note: you may need to restart the kernel to use updated packages.\n",
      "\n"
     ]
    },
    {
     "name": "stderr",
     "output_type": "stream",
     "text": [
      "\n",
      "[notice] A new release of pip is available: 24.0 -> 24.3.1\n",
      "[notice] To update, run: python.exe -m pip install --upgrade pip\n",
      "Traceback (most recent call last):\n",
      "  File \"c:\\Users\\cdk60\\20242R0136COSE47402\\Final_Project\\wikiextractor\\setup.py\", line 12, in <module>\n",
      "    with open(\"README.md\", \"r\") as fh:\n",
      "FileNotFoundError: [Errno 2] No such file or directory: 'README.md'\n"
     ]
    }
   ],
   "source": [
    "%pip install wikiextractor\n",
    "!python wikiextractor/setup.py install"
   ]
  },
  {
   "cell_type": "code",
   "execution_count": 8,
   "metadata": {},
   "outputs": [
    {
     "name": "stderr",
     "output_type": "stream",
     "text": [
      "Traceback (most recent call last):\n",
      "  File \"c:\\Users\\cdk60\\AppData\\Local\\Programs\\Python\\Python39\\lib\\runpy.py\", line 197, in _run_module_as_main\n",
      "    return _run_code(code, main_globals, None,\n",
      "  File \"c:\\Users\\cdk60\\AppData\\Local\\Programs\\Python\\Python39\\lib\\runpy.py\", line 87, in _run_code\n",
      "    exec(code, run_globals)\n",
      "  File \"c:\\Users\\cdk60\\AppData\\Local\\Programs\\Python\\Python39\\lib\\site-packages\\wikiextractor\\WikiExtractor.py\", line 645, in <module>\n",
      "    main()\n",
      "  File \"c:\\Users\\cdk60\\AppData\\Local\\Programs\\Python\\Python39\\lib\\site-packages\\wikiextractor\\WikiExtractor.py\", line 640, in main\n",
      "    process_dump(input_file, args.templates, output_path, file_size,\n",
      "  File \"c:\\Users\\cdk60\\AppData\\Local\\Programs\\Python\\Python39\\lib\\site-packages\\wikiextractor\\WikiExtractor.py\", line 298, in process_dump\n",
      "    input = decode_open(input_file)\n",
      "  File \"c:\\Users\\cdk60\\AppData\\Local\\Programs\\Python\\Python39\\lib\\site-packages\\wikiextractor\\WikiExtractor.py\", line 277, in decode_open\n",
      "    return bz2.open(filename, mode=mode, encoding=encoding)\n",
      "  File \"c:\\Users\\cdk60\\AppData\\Local\\Programs\\Python\\Python39\\lib\\bz2.py\", line 319, in open\n",
      "    binary_file = BZ2File(filename, bz_mode, compresslevel=compresslevel)\n",
      "  File \"c:\\Users\\cdk60\\AppData\\Local\\Programs\\Python\\Python39\\lib\\bz2.py\", line 85, in __init__\n",
      "    self._fp = _builtin_open(filename, mode)\n",
      "FileNotFoundError: [Errno 2] No such file or directory: './datasets/enwiki-latest-pages-articles1.xml-p1p41242.bz2'\n"
     ]
    }
   ],
   "source": [
    "!python -m wikiextractor.WikiExtractor ./datasets/enwiki-latest-pages-articles1.xml-p1p41242.bz2"
   ]
  },
  {
   "cell_type": "code",
   "execution_count": null,
   "metadata": {},
   "outputs": [],
   "source": []
  }
 ],
 "metadata": {
  "kernelspec": {
   "display_name": "Python 3",
   "language": "python",
   "name": "python3"
  },
  "language_info": {
   "codemirror_mode": {
    "name": "ipython",
    "version": 3
   },
   "file_extension": ".py",
   "mimetype": "text/x-python",
   "name": "python",
   "nbconvert_exporter": "python",
   "pygments_lexer": "ipython3",
   "version": "3.9.13"
  }
 },
 "nbformat": 4,
 "nbformat_minor": 2
}
